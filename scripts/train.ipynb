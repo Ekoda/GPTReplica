{
 "cells": [
  {
   "cell_type": "code",
   "execution_count": 1,
   "metadata": {},
   "outputs": [],
   "source": [
    "import torch\n",
    "from torch.nn import functional as F\n",
    "import numpy as np\n",
    "import sys, os\n",
    "sys.path.append(os.path.abspath(\"..\"))\n",
    "from src.model import GPT\n",
    "from src.utils.data_utils import load_config, load_data"
   ]
  },
  {
   "cell_type": "code",
   "execution_count": 2,
   "metadata": {},
   "outputs": [
    {
     "name": "stdout",
     "output_type": "stream",
     "text": [
      "tensor([ 5962, 22307,    25,   198,  8421,   356,  5120,   597,  2252,    11],\n",
      "       dtype=torch.int32)\n",
      "tensor([   30,   198,   198, 28934,  8895,    46,    25,   198, 10248,  2146],\n",
      "       dtype=torch.int32)\n"
     ]
    }
   ],
   "source": [
    "train_data = np.fromfile('../data/tokens/train_tokens.bin', np.uint16)\n",
    "val_data = np.fromfile('../data/tokens/val_tokens.bin', np.uint16)\n",
    "train_data = torch.from_numpy(train_data.astype(np.int32))\n",
    "val_data = torch.from_numpy(val_data.astype(np.int32))\n",
    "\n",
    "print(train_data[:10])\n",
    "print(val_data[:10])"
   ]
  },
  {
   "cell_type": "code",
   "execution_count": 3,
   "metadata": {},
   "outputs": [],
   "source": [
    "config = load_config('../config.yaml')\n",
    "dataset_slice = train_data[:int(len(train_data) * 1)] # use 10% of the training data\n",
    "train_dataloader = load_data(dataset_slice, config)\n",
    "val_dataloader = load_data(val_data, config)"
   ]
  },
  {
   "cell_type": "code",
   "execution_count": 4,
   "metadata": {},
   "outputs": [
    {
     "name": "stdout",
     "output_type": "stream",
     "text": [
      "Epoch 0:\n",
      "\tTrain Loss: 2.575533567848852\n",
      "\tVal Loss: 6.168598386976454\n",
      "\tTime: 7.094s\n",
      "Epoch 1:\n",
      "\tTrain Loss: 2.46765456765385\n",
      "\tVal Loss: 6.287985761960347\n",
      "\tTime: 5.567s\n",
      "Epoch 2:\n",
      "\tTrain Loss: 2.4246538824954276\n",
      "\tVal Loss: 6.304807702700297\n",
      "\tTime: 5.530s\n",
      "Epoch 3:\n",
      "\tTrain Loss: 2.391349096217398\n",
      "\tVal Loss: 6.348165856467353\n",
      "\tTime: 5.463s\n",
      "Epoch 4:\n",
      "\tTrain Loss: 2.364246682393349\n",
      "\tVal Loss: 6.435806804233128\n",
      "\tTime: 5.472s\n"
     ]
    }
   ],
   "source": [
    "model = GPT(config)\n",
    "model.train_model(train_dataloader, val_dataloader, config)"
   ]
  }
 ],
 "metadata": {
  "kernelspec": {
   "display_name": "env",
   "language": "python",
   "name": "python3"
  },
  "language_info": {
   "codemirror_mode": {
    "name": "ipython",
    "version": 3
   },
   "file_extension": ".py",
   "mimetype": "text/x-python",
   "name": "python",
   "nbconvert_exporter": "python",
   "pygments_lexer": "ipython3",
   "version": "3.11.4"
  },
  "orig_nbformat": 4
 },
 "nbformat": 4,
 "nbformat_minor": 2
}
