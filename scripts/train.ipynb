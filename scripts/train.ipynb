{
 "cells": [
  {
   "cell_type": "code",
   "execution_count": 1,
   "metadata": {},
   "outputs": [],
   "source": [
    "import torch\n",
    "from torch.nn import functional as F\n",
    "import numpy as np\n",
    "import sys, os\n",
    "sys.path.append(os.path.abspath(\"..\"))\n",
    "from src.model import GPT\n",
    "from src.utils.data_utils import load_config, load_data"
   ]
  },
  {
   "cell_type": "code",
   "execution_count": 2,
   "metadata": {},
   "outputs": [
    {
     "name": "stdout",
     "output_type": "stream",
     "text": [
      "tensor([ 5962, 22307,    25,   198,  8421,   356,  5120,   597,  2252,    11],\n",
      "       dtype=torch.int32)\n",
      "tensor([   30,   198,   198, 28934,  8895,    46,    25,   198, 10248,  2146],\n",
      "       dtype=torch.int32)\n"
     ]
    }
   ],
   "source": [
    "train_data = np.fromfile('../data/tokens/train_tokens.bin', np.uint16)\n",
    "val_data = np.fromfile('../data/tokens/val_tokens.bin', np.uint16)\n",
    "train_data = torch.from_numpy(train_data.astype(np.int32))\n",
    "val_data = torch.from_numpy(val_data.astype(np.int32))\n",
    "\n",
    "print(train_data[:10])\n",
    "print(val_data[:10])"
   ]
  },
  {
   "cell_type": "code",
   "execution_count": 3,
   "metadata": {},
   "outputs": [],
   "source": [
    "config = load_config('../config.yaml')\n",
    "dataset_slice = train_data[:int(len(train_data) * 1)] # use 100% of the training data\n",
    "train_dataloader = load_data(dataset_slice, config)"
   ]
  },
  {
   "cell_type": "code",
   "execution_count": 4,
   "metadata": {},
   "outputs": [
    {
     "name": "stdout",
     "output_type": "stream",
     "text": [
      "Epoch 0: Loss = 6.1951697495024085, Time = 3.593s\n",
      "Epoch 1: Loss = 5.216017134512885, Time = 3.481s\n",
      "Epoch 2: Loss = 4.818940919334605, Time = 3.493s\n",
      "Epoch 3: Loss = 4.580165371854426, Time = 3.479s\n",
      "Epoch 4: Loss = 4.417784107337564, Time = 3.373s\n",
      "Epoch 5: Loss = 4.297377952882799, Time = 3.393s\n",
      "Epoch 6: Loss = 4.203489139524557, Time = 3.362s\n",
      "Epoch 7: Loss = 4.1273420578342375, Time = 3.363s\n",
      "Epoch 8: Loss = 4.063679991536222, Time = 3.364s\n",
      "Epoch 9: Loss = 4.009590799323583, Time = 3.381s\n"
     ]
    }
   ],
   "source": [
    "model = GPT(config)\n",
    "model.train_model(train_dataloader, config)"
   ]
  },
  {
   "cell_type": "code",
   "execution_count": null,
   "metadata": {},
   "outputs": [],
   "source": []
  },
  {
   "attachments": {},
   "cell_type": "markdown",
   "metadata": {},
   "source": []
  }
 ],
 "metadata": {
  "kernelspec": {
   "display_name": "env",
   "language": "python",
   "name": "python3"
  },
  "language_info": {
   "codemirror_mode": {
    "name": "ipython",
    "version": 3
   },
   "file_extension": ".py",
   "mimetype": "text/x-python",
   "name": "python",
   "nbconvert_exporter": "python",
   "pygments_lexer": "ipython3",
   "version": "3.11.4"
  },
  "orig_nbformat": 4
 },
 "nbformat": 4,
 "nbformat_minor": 2
}
