{
 "cells": [
  {
   "cell_type": "code",
   "execution_count": 1,
   "metadata": {},
   "outputs": [],
   "source": [
    "import sys\n",
    "import os\n",
    "sys.path.append(os.path.abspath(\"../src\"))\n",
    "from utils.data_utils import *"
   ]
  },
  {
   "cell_type": "code",
   "execution_count": 2,
   "metadata": {},
   "outputs": [
    {
     "name": "stdout",
     "output_type": "stream",
     "text": [
      "train data has 301,966 tokens\n",
      "validation data has 36,059 tokens\n",
      "Vocabulary size: 50257\n"
     ]
    }
   ],
   "source": [
    "with open(\"../data/shakespear.txt\", \"r\") as f:\n",
    "    data = f.read()\n",
    "\n",
    "config = load_config('../config.yaml')\n",
    "\n",
    "# Split the data into training and validation sets\n",
    "train_data, val_data = split_data(data, config)\n",
    "\n",
    "# Tokenize the data and save it to binary files for use in training\n",
    "tokenize_and_save(\n",
    "    train_data,\n",
    "    val_data,\n",
    "    encoder_type=\"gpt2\",\n",
    "    dtype=np.uint16,\n",
    "    train_output_path=\"../data/tokens/train_tokens.bin\",\n",
    "    val_output_path=\"../data/tokens/val_tokens.bin\",\n",
    ")"
   ]
  }
 ],
 "metadata": {
  "kernelspec": {
   "display_name": "env",
   "language": "python",
   "name": "python3"
  },
  "language_info": {
   "codemirror_mode": {
    "name": "ipython",
    "version": 3
   },
   "file_extension": ".py",
   "mimetype": "text/x-python",
   "name": "python",
   "nbconvert_exporter": "python",
   "pygments_lexer": "ipython3",
   "version": "3.11.4"
  },
  "orig_nbformat": 4
 },
 "nbformat": 4,
 "nbformat_minor": 2
}
