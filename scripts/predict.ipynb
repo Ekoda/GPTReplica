{
 "cells": [
  {
   "cell_type": "code",
   "execution_count": 1,
   "metadata": {},
   "outputs": [],
   "source": [
    "import torch\n",
    "from torch.nn import functional as F\n",
    "import numpy as np\n",
    "import sys, os\n",
    "sys.path.append(os.path.abspath(\"..\"))\n",
    "from src.model import GPT\n",
    "from src.utils.data_utils import load_config"
   ]
  },
  {
   "cell_type": "code",
   "execution_count": 2,
   "metadata": {},
   "outputs": [],
   "source": [
    "config = load_config('../config.yaml')\n",
    "model = GPT(config)"
   ]
  },
  {
   "cell_type": "code",
   "execution_count": 3,
   "metadata": {},
   "outputs": [
    {
     "name": "stdout",
     "output_type": "stream",
     "text": [
      "We must kill him.\n",
      "\n",
      "DUKE VINCENTIO:\n",
      "I know you are well acquainted with me.\n",
      "\n",
      "LUCENTIO:\n",
      "I warrant you, sir, sir, sir, and therefore prepare yourself you.\n",
      "\n",
      "DUKE VINCENTIO:\n",
      "I know it is no more, sir\n"
     ]
    }
   ],
   "source": [
    "sentence = \"We must kill him\"\n",
    "temperature = 1.2\n",
    "\n",
    "prediction = model.predict(sentence, max_length=64, temperature=temperature).split(\"\\n\")\n",
    "\n",
    "for p in prediction:\n",
    "    print(p)"
   ]
  },
  {
   "cell_type": "code",
   "execution_count": 4,
   "metadata": {},
   "outputs": [
    {
     "name": "stdout",
     "output_type": "stream",
     "text": [
      "-----------------\n",
      "\n",
      "Hardware Configuration:\n",
      "\tDevice: cuda\n",
      "\n",
      "Data Configuration:\n",
      "\tTokenizer: gpt2\n",
      "\tTrain / Validation ratio: 0.9\n",
      "\n",
      "Model Configuration:\n",
      "\tModel dimensions: 256\n",
      "\tNumber of layers: 2\n",
      "\tNumber of attention heads: 4\n",
      "\tVocabulary size: 50257\n",
      "\tTotal trainable parameters: 27161681\n",
      "\n",
      "Training Configuration:\n",
      "\tBatch size: 16\n",
      "\tSequence length: 64\n",
      "\tNumber of training epochs: 2\n",
      "\tLearning rate: 0.0001\n",
      "\tOptimizer: Adam\n",
      "\tLoss function: CrossEntropyLoss\n",
      "\tDropout rate: 0.2\n",
      "\tGradient clipping: False\n",
      "\n",
      "Loaded parameters from: ../params/test_256.pth\n",
      "\n",
      "Model parameters will be saved at: ../params/test_256.pth\n",
      "-----------------\n",
      "\n"
     ]
    }
   ],
   "source": [
    "model.describe()"
   ]
  },
  {
   "cell_type": "code",
   "execution_count": null,
   "metadata": {},
   "outputs": [],
   "source": []
  }
 ],
 "metadata": {
  "kernelspec": {
   "display_name": "env",
   "language": "python",
   "name": "python3"
  },
  "language_info": {
   "codemirror_mode": {
    "name": "ipython",
    "version": 3
   },
   "file_extension": ".py",
   "mimetype": "text/x-python",
   "name": "python",
   "nbconvert_exporter": "python",
   "pygments_lexer": "ipython3",
   "version": "3.11.4"
  },
  "orig_nbformat": 4
 },
 "nbformat": 4,
 "nbformat_minor": 2
}
