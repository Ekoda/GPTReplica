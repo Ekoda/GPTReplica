{
 "cells": [
  {
   "cell_type": "code",
   "execution_count": 1,
   "metadata": {},
   "outputs": [],
   "source": [
    "import torch\n",
    "from torch.nn import functional as F\n",
    "import numpy as np\n",
    "import sys, os\n",
    "sys.path.append(os.path.abspath(\"..\"))\n",
    "from src.model import GPT\n",
    "from src.utils.data_utils import load_config"
   ]
  },
  {
   "cell_type": "code",
   "execution_count": 2,
   "metadata": {},
   "outputs": [],
   "source": [
    "config = load_config('../config.yaml')\n",
    "model = GPT(config)"
   ]
  },
  {
   "cell_type": "code",
   "execution_count": 5,
   "metadata": {},
   "outputs": [
    {
     "name": "stdout",
     "output_type": "stream",
     "text": [
      "Will you come alive, I wonder!\n",
      "But so much out of you, you,\n",
      "him.\n",
      "\n",
      "MARCIUS:\n",
      "Well; your desires, speak well.\n",
      "Farewell:\n",
      "Farewell,US:\n",
      "O, let them goest.\n",
      "\n",
      "O, let's put on before your tears;\n",
      "And haste may strike at Pomfavest withal, if you\n",
      "Unless she shall bent forsworn?\n",
      "\n",
      "Which I'll make thee yea, I'll procure, good son forgiveness.\n",
      "\n",
      "\n",
      "\n",
      "BOW:\n",
      "O, then, if you good lord, my son the friarumio,\n",
      "To undergo much errand beheld both knowledge with a prisoner;\n",
      "A traitor:\n",
      "No better term unto the queen's point, the queen who desires access\n",
      "Neglect the queen: if\n",
      "The strongest nerves and safeguard' tears are not\n",
      "Be not\n",
      "Could wept with those flowers o' the gods go\n",
      "fond in retire: if thou\n"
     ]
    }
   ],
   "source": [
    "sentence = \"Will you come alive, I wonder!\"\n",
    "temperature = 2\n",
    "\n",
    "prediction = model.predict(sentence, max_length=200, temperature=temperature).split(\"\\n\")\n",
    "\n",
    "for p in prediction:\n",
    "    print(p)"
   ]
  }
 ],
 "metadata": {
  "kernelspec": {
   "display_name": "env",
   "language": "python",
   "name": "python3"
  },
  "language_info": {
   "codemirror_mode": {
    "name": "ipython",
    "version": 3
   },
   "file_extension": ".py",
   "mimetype": "text/x-python",
   "name": "python",
   "nbconvert_exporter": "python",
   "pygments_lexer": "ipython3",
   "version": "3.11.4"
  },
  "orig_nbformat": 4
 },
 "nbformat": 4,
 "nbformat_minor": 2
}
