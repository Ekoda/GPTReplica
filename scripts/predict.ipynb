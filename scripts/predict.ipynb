{
 "cells": [
  {
   "cell_type": "code",
   "execution_count": 1,
   "metadata": {},
   "outputs": [],
   "source": [
    "import torch\n",
    "from torch.nn import functional as F\n",
    "import numpy as np\n",
    "import sys, os\n",
    "sys.path.append(os.path.abspath(\"..\"))\n",
    "from src.model import GPT\n",
    "from src.utils.data_utils import load_config"
   ]
  },
  {
   "cell_type": "code",
   "execution_count": 2,
   "metadata": {},
   "outputs": [],
   "source": [
    "config = load_config('../config.yaml')\n",
    "model = GPT(config)"
   ]
  },
  {
   "cell_type": "code",
   "execution_count": 3,
   "metadata": {},
   "outputs": [
    {
     "name": "stdout",
     "output_type": "stream",
     "text": [
      "We must kill him before he kills us.\n",
      "\n",
      "GREMIO:\n",
      "I am glad of the devil.\n",
      "\n",
      "PETRUKE VINCENTIO:\n",
      "O gracious lord, Tranio,\n",
      "And yet I will give your waist,--\n",
      "\n",
      "\n",
      "TRANIO:\n",
      "O gracious madam!\n",
      "O my lord, I subscribe\n"
     ]
    }
   ],
   "source": [
    "sentence = \"We must kill him before he kills us.\"\n",
    "temperature = 1.2\n",
    "\n",
    "prediction = model.predict(sentence, max_length=64, temperature=temperature).split(\"\\n\")\n",
    "\n",
    "for p in prediction:\n",
    "    print(p)"
   ]
  }
 ],
 "metadata": {
  "kernelspec": {
   "display_name": "env",
   "language": "python",
   "name": "python3"
  },
  "language_info": {
   "codemirror_mode": {
    "name": "ipython",
    "version": 3
   },
   "file_extension": ".py",
   "mimetype": "text/x-python",
   "name": "python",
   "nbconvert_exporter": "python",
   "pygments_lexer": "ipython3",
   "version": "3.11.4"
  },
  "orig_nbformat": 4
 },
 "nbformat": 4,
 "nbformat_minor": 2
}
